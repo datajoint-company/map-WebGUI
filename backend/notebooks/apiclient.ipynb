{
 "cells": [
  {
   "cell_type": "code",
   "execution_count": 3,
   "metadata": {},
   "outputs": [],
   "source": [
    "import os\n",
    "os.chdir('/src/iblapi')"
   ]
  },
  {
   "cell_type": "code",
   "execution_count": 4,
   "metadata": {},
   "outputs": [
    {
     "name": "stdout",
     "output_type": "stream",
     "text": [
      "Connecting chris@datajoint.internationalbrainlab.org:3306\n"
     ]
    }
   ],
   "source": [
    "import apiclient as cl"
   ]
  },
  {
   "cell_type": "code",
   "execution_count": 7,
   "metadata": {},
   "outputs": [],
   "source": [
    "cl.api_endpoint = 'http://iblapi:5000/v0'"
   ]
  },
  {
   "cell_type": "code",
   "execution_count": 8,
   "metadata": {},
   "outputs": [
    {
     "data": {
      "text/plain": [
       "[{'lab_name': 'angelakilab',\n",
       "  'lab_uuid': 'a6ce2c8b-5692-42a2-ae59-ca1cf024e9af',\n",
       "  'institution': 'New York University / Center for Neural Science',\n",
       "  'address': '4 Washington Pl #809, New York, NY 10003, USA',\n",
       "  'time_zone': 'America/New_York',\n",
       "  'reference_weight_pct': 0.85,\n",
       "  'zscore_weight_pct': 0.0},\n",
       " {'lab_name': 'churchlandlab',\n",
       "  'lab_uuid': 'afe830e3-897b-4b94-adb7-09186b0d44a1',\n",
       "  'institution': 'Cold Spring Harbor Laboratory',\n",
       "  'address': '1 Bungtown Road, Cold Spring Harbor, NY 11724, USA',\n",
       "  'time_zone': 'America/New_York',\n",
       "  'reference_weight_pct': 0.85,\n",
       "  'zscore_weight_pct': 0.0},\n",
       " {'lab_name': 'cortexlab',\n",
       "  'lab_uuid': '4027da48-7be3-43ec-a222-f75dffe36872',\n",
       "  'institution': 'University College London',\n",
       "  'address': 'Cruciform Building, Gower Street, London, WC1E 6BT, United Kingdom',\n",
       "  'time_zone': 'Europe/London',\n",
       "  'reference_weight_pct': 0.0,\n",
       "  'zscore_weight_pct': 0.8},\n",
       " {'lab_name': 'danlab',\n",
       "  'lab_uuid': '4b01be8d-d98c-45af-ad12-5e56a0d211df',\n",
       "  'institution': 'UCB',\n",
       "  'address': '230E, LKS, UC Berkeley/HHMI',\n",
       "  'time_zone': 'America/Los_Angeles',\n",
       "  'reference_weight_pct': 0.85,\n",
       "  'zscore_weight_pct': 0.0},\n",
       " {'lab_name': 'hoferlab',\n",
       "  'lab_uuid': '238f6133-bbbc-4f0b-a3b7-f644c5966cce',\n",
       "  'institution': 'Sainsbury Wellcome Centre',\n",
       "  'address': '25 Howland Street, London, W1T 4JG',\n",
       "  'time_zone': 'Europe/London',\n",
       "  'reference_weight_pct': 0.8,\n",
       "  'zscore_weight_pct': 0.0},\n",
       " {'lab_name': 'mainenlab',\n",
       "  'lab_uuid': 'dc93dacb-beff-4106-bb2c-5c97e5f57bf7',\n",
       "  'institution': 'Champalimaud Centre for the Unknown',\n",
       "  'address': 'Avenida Brasilia, 1400-038, Lisboa, Portugal',\n",
       "  'time_zone': 'Europe/Lisbon',\n",
       "  'reference_weight_pct': 0.85,\n",
       "  'zscore_weight_pct': 0.0},\n",
       " {'lab_name': 'mrsicflogellab',\n",
       "  'lab_uuid': '86718502-efaf-40ec-a17f-b059b81641ad',\n",
       "  'institution': 'Sainsbury Wellcome Centre',\n",
       "  'address': '25 Howland Street, London, W1T 4JG',\n",
       "  'time_zone': 'Europe/London',\n",
       "  'reference_weight_pct': 0.8,\n",
       "  'zscore_weight_pct': 0.0},\n",
       " {'lab_name': 'wittenlab',\n",
       "  'lab_uuid': '6658f07e-4330-4695-99e9-0286a5b642b8',\n",
       "  'institution': 'Princeton',\n",
       "  'address': 'Princeton Neuroscience Institute, Room 154 Princeton University Princeton, NJ 08544',\n",
       "  'time_zone': 'America/New_York',\n",
       "  'reference_weight_pct': 0.85,\n",
       "  'zscore_weight_pct': 0.0},\n",
       " {'lab_name': 'zadorlab',\n",
       "  'lab_uuid': 'eea4876c-40fa-40b0-9f3a-c3eed9e3db6f',\n",
       "  'institution': 'Cold Spring Harbor Laboratory',\n",
       "  'address': '1 Bungtown Rd, Cold Spring Harbor, NY 11724, USA',\n",
       "  'time_zone': 'America/New_York',\n",
       "  'reference_weight_pct': 0.85,\n",
       "  'zscore_weight_pct': 0.0}]"
      ]
     },
     "execution_count": 8,
     "metadata": {},
     "output_type": "execute_result"
    }
   ],
   "source": [
    "cl.post('/lab')"
   ]
  },
  {
   "cell_type": "code",
   "execution_count": null,
   "metadata": {},
   "outputs": [],
   "source": []
  }
 ],
 "metadata": {
  "kernelspec": {
   "display_name": "Python 3",
   "language": "python",
   "name": "python3"
  },
  "language_info": {
   "codemirror_mode": {
    "name": "ipython",
    "version": 3
   },
   "file_extension": ".py",
   "mimetype": "text/x-python",
   "name": "python",
   "nbconvert_exporter": "python",
   "pygments_lexer": "ipython3",
   "version": "3.6.6"
  }
 },
 "nbformat": 4,
 "nbformat_minor": 2
}
